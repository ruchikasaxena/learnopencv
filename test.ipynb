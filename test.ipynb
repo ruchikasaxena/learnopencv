{
  "nbformat": 4,
  "nbformat_minor": 0,
  "metadata": {
    "colab": {
      "provenance": [],
      "authorship_tag": "ABX9TyO6FZIuuG/VINomUkqJEiiA",
      "include_colab_link": true
    },
    "kernelspec": {
      "name": "python3",
      "display_name": "Python 3"
    },
    "language_info": {
      "name": "python"
    }
  },
  "cells": [
    {
      "cell_type": "markdown",
      "metadata": {
        "id": "view-in-github",
        "colab_type": "text"
      },
      "source": [
        "<a href=\"https://colab.research.google.com/github/ruchikasaxena/learnopencv/blob/master/test.ipynb\" target=\"_parent\"><img src=\"https://colab.research.google.com/assets/colab-badge.svg\" alt=\"Open In Colab\"/></a>"
      ]
    },
    {
      "cell_type": "code",
      "execution_count": 11,
      "metadata": {
        "colab": {
          "base_uri": "https://localhost:8080/",
          "height": 353
        },
        "id": "BpN4U6NJ24NK",
        "outputId": "900e5dcc-ce94-484f-c553-a26ecd5a8531"
      },
      "outputs": [
        {
          "output_type": "execute_result",
          "data": {
            "text/plain": [
              "<IPython.core.display.Markdown object>"
            ],
            "text/markdown": "> ## From Chaos to Containers: My Meal Prep Journey (and This Week's Delicious Lunch!)\n> \n> Let's be honest, my relationship with meal prepping used to be… rocky.  Picture this: frantic weekday mornings, last-minute unhealthy choices, and a consistent feeling of being hangry.  Sound familiar?\n> \n> Then, I discovered the magic of meal prepping. It wasn't instant nirvana, mind you.  There were definitely some trial-and-error weeks involving soggy salads and overly spiced stir-fries. But the payoff?  Worth every slightly burnt broccoli floret.\n> \n> This week, I'm celebrating my improved skills with these beauties (see photo!).  Two perfectly portioned containers bursting with deliciousness: fluffy white rice, tender teriyaki chicken, vibrant roasted carrots and broccoli. It’s the perfect balance of savory and satisfying, and honestly, it tastes even better reheated!\n> \n> The journey to this point involved learning a few key things:\n> \n> * **Planning is key:**  I now dedicate a solid hour on Sunday to planning my meals and creating a shopping list.  No more impulsive grocery store trips!\n> * **Keep it simple:** Don't try to reinvent the wheel.  Stick to recipes you enjoy and can easily replicate.\n> * **Embrace leftovers:**  This is where the magic happens. One big batch can easily become two (or even three!) delicious lunches.\n> \n> \n> So, if you're struggling with consistent, healthy eating, give meal prepping a shot. It’s less daunting than you think, and the rewards – a stress-free week and delicious, healthy lunches like these – are well worth the effort.  Happy prepping!\n"
          },
          "metadata": {},
          "execution_count": 11
        }
      ],
      "source": [
        "import pathlib\n",
        "import textwrap\n",
        "import PIL.Image\n",
        "import google.generativeai as genai\n",
        "\n",
        "from IPython.display import display\n",
        "from IPython.display import Markdown\n",
        "\n",
        "\n",
        "def to_markdown(text):\n",
        "  text = text.replace('•', '  *')\n",
        "  return Markdown(textwrap.indent(text, '> ', predicate=lambda _: True))\n",
        "\n",
        "# Used to securely store your API key\n",
        "from google.colab import userdata\n",
        "\n",
        "\n",
        "# Or use `os.getenv('GOOGLE_API_KEY')` to fetch an environment variable.\n",
        "GOOGLE_API_KEY=userdata.get('GOOGLE_API_KEY')\n",
        "\n",
        "genai.configure(api_key=GOOGLE_API_KEY)\n",
        "\n",
        "#for m in genai.list_models():\n",
        "# if 'generateContent' in m.supported_generation_methods:\n",
        "#   print(m.name)\n",
        "\n",
        "img = PIL.Image.open('test.png')\n",
        "img\n",
        "model = genai.GenerativeModel('gemini-1.5-flash')\n",
        "response = model.generate_content([\"Write a short, engaging blog post based on this picture. It should include a description of the meal in the photo and talk about my journey meal prepping.\", img], stream=True)\n",
        "response.resolve()\n",
        "#response = model.generate_content(\"What is the meaning of life?\")\n",
        "to_markdown(response.text)"
      ]
    }
  ]
}